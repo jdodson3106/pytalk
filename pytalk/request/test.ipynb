{
 "cells": [
  {
   "cell_type": "code",
   "execution_count": 1,
   "metadata": {},
   "outputs": [],
   "source": [
    "items = {\n",
    "    '_method': 'GET',\n",
    "    'params': {\n",
    "        'foo': 'bar', \n",
    "        'plants': 'crave'\n",
    "    },\n",
    "    '_path': '/brawndo?foo=bar&plants=crave', \n",
    "    'form_data': {}, \n",
    "    'headers': {}\n",
    "}"
   ]
  },
  {
   "cell_type": "code",
   "execution_count": null,
   "metadata": {},
   "outputs": [],
   "source": [
    "f = lambda s: s[0]==\"_\"\n",
    "f(\"_method\")"
   ]
  }
 ],
 "metadata": {
  "kernelspec": {
   "display_name": "venv",
   "language": "python",
   "name": "python3"
  },
  "language_info": {
   "codemirror_mode": {
    "name": "ipython",
    "version": 3
   },
   "file_extension": ".py",
   "mimetype": "text/x-python",
   "name": "python",
   "nbconvert_exporter": "python",
   "pygments_lexer": "ipython3",
   "version": "3.8.10"
  }
 },
 "nbformat": 4,
 "nbformat_minor": 2
}
